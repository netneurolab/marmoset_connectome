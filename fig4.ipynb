{
 "cells": [
  {
   "cell_type": "code",
   "execution_count": 1,
   "metadata": {},
   "outputs": [],
   "source": [
    "import matplotlib \n",
    "%matplotlib inline\n",
    "import numpy as np\n",
    "import matplotlib.pyplot as plt\n",
    "from helper import *\n",
    "from tqdm import tqdm_notebook\n",
    "import brainconn as bc\n",
    "import pandas as pd\n",
    "import seaborn as sns\n",
    "import nilearn.plotting as plotting\n",
    "import palettable as pal\n",
    "import matplotlib.colors as mcolors\n",
    "import matplotlib.cm as cm\n",
    "import scipy.stats as stats"
   ]
  },
  {
   "cell_type": "code",
   "execution_count": 2,
   "metadata": {},
   "outputs": [],
   "source": [
    "conn_mat, labels, dist_mat, g_conn = load_marmoset_data()"
   ]
  },
  {
   "cell_type": "code",
   "execution_count": 3,
   "metadata": {},
   "outputs": [],
   "source": [
    "disc_pal_4 = sns.color_palette(\"husl\", 4)\n",
    "cmap_seq2 = mcolors.LinearSegmentedColormap.from_list('',\n",
    "                                                      pal.cmocean.sequential.Deep_20.mpl_colors[4:-4])"
   ]
  },
  {
   "cell_type": "code",
   "execution_count": 4,
   "metadata": {},
   "outputs": [],
   "source": [
    "def plot_motif_freq():\n",
    "    [motif3_f_arr, motif3_f_arr_zscore] = load_pickle_file('data/motifs_20181129_220228.pickle')\n",
    "    net_motif3 = motif3_f_arr[0]\n",
    "\n",
    "    net_motif3_freq = np.average(net_motif3, axis=1)\n",
    "    net_motif3_freq /= np.sum(net_motif3_freq)\n",
    "\n",
    "    net_motif3_freq_null = [np.average(_, axis=1) for _ in motif3_f_arr[1:]]\n",
    "    net_motif3_freq_null = [_ / np.sum(_) for _ in net_motif3_freq_null]\n",
    "    net_motif3_freq_null_mean = np.mean(net_motif3_freq_null, axis=0)\n",
    "\n",
    "    p_sig_index = []\n",
    "    for i in range(13):\n",
    "        tmp_null = [_[i] for _ in net_motif3_freq_null]\n",
    "        p_val_up = np.sum(np.array(tmp_null) > net_motif3_freq[i]) / len(tmp_null)\n",
    "        p_val_down = np.sum(np.array(tmp_null) < net_motif3_freq[i]) / len(tmp_null)\n",
    "        if p_val_up < 0.05 or p_val_down < 0.05:\n",
    "            p_sig_index.append(i + 1)\n",
    "\n",
    "    # get motif figures-3\n",
    "    import matplotlib.image as mpimg\n",
    "    motif3_img = mpimg.imread('data/journal.pbio.0020369.g001-1.png')\n",
    "    # plt.imshow(motif3_img)\n",
    "    motif3_img_each = []\n",
    "    width, height = 300, 355\n",
    "    base_x, base_y = 560, 110\n",
    "    for i in range(4):\n",
    "        for j in range(4):\n",
    "            if i == 3 and j > 0: break\n",
    "            curr_img = motif3_img[base_y + i * height:base_y + (i + 1) * height,\n",
    "                       base_x + j * width:base_x + (j + 1) * width]\n",
    "            motif3_img_each.append(curr_img)\n",
    "            # plt.figure()\n",
    "            # plt.imshow(curr_img)\n",
    "\n",
    "    fig, ax = plt.subplots()\n",
    "    fig.subplots_adjust(bottom=0.2)\n",
    "    ax.bar(np.arange(1, 14), net_motif3_freq, width=0.4, color=disc_pal_4[-1])\n",
    "    ax.boxplot(np.array(net_motif3_freq_null),\n",
    "               notch=True, showbox=True, sym='.', widths=0.4,\n",
    "               boxprops={'color': 'gray'}, capprops={'color': 'gray'},\n",
    "               whiskerprops={'color': 'gray'}, medianprops={'color': 'gray'}, showfliers=False)\n",
    "    # plt.plot(np.arange(1, 14), net_motif3_freq_null_mean,\n",
    "    #          linestyle='-', color='gray',\n",
    "    #          marker='*', markeredgecolor='gray', markerfacecolor='gray')\n",
    "    plt.plot(p_sig_index, [0.3] * len(p_sig_index), linestyle='', marker='*', color=disc_pal_4[0])\n",
    "    plt.ylabel('appearance frequency')\n",
    "    xl, yl, xh, yh = np.array(ax.get_position()).ravel()\n",
    "    x_add = 0.058\n",
    "    img_size = 0.08\n",
    "    for i in range(13):\n",
    "        newax = fig.add_axes([xl + i * x_add, yl - 0.1, img_size, img_size])\n",
    "        newax.imshow(motif3_img_each[i])\n",
    "        newax.axis('off')\n",
    "    sns.despine(ax=ax, top=True, right=True, left=False, bottom=True, offset=10, trim=True)\n"
   ]
  },
  {
   "cell_type": "code",
   "execution_count": 5,
   "metadata": {},
   "outputs": [],
   "source": [
    "[motif3_f_arr, motif3_f_arr_zscore] = load_pickle_file('data/motifs_20181129_220228.pickle')\n",
    "net_motif3 = motif3_f_arr[0]\n",
    "\n",
    "net_motif3_freq = np.average(net_motif3, axis=1)\n",
    "net_motif3_freq /= np.sum(net_motif3_freq)\n",
    "\n",
    "net_motif3_freq_null = [np.average(_, axis=1) for _ in motif3_f_arr[1:]]\n",
    "net_motif3_freq_null = [_ / np.sum(_) for _ in net_motif3_freq_null]\n",
    "net_motif3_freq_null_mean = np.mean(net_motif3_freq_null, axis=0)\n",
    "\n",
    "p_sig_index = []\n",
    "for i in range(13):\n",
    "    tmp_null = [_[i] for _ in net_motif3_freq_null]\n",
    "    p_val_up = np.sum(np.array(tmp_null) > net_motif3_freq[i]) / len(tmp_null)\n",
    "    p_val_down = np.sum(np.array(tmp_null) < net_motif3_freq[i]) / len(tmp_null)\n",
    "    if p_val_up < 0.05 or p_val_down < 0.05:\n",
    "        p_sig_index.append(i + 1)\n"
   ]
  },
  {
   "cell_type": "code",
   "execution_count": 6,
   "metadata": {},
   "outputs": [
    {
     "data": {
      "image/png": "[encoded data removed]",
      "text/plain": [
       "<Figure size 432x288 with 14 Axes>"
      ]
     },
     "metadata": {
      "needs_background": "light"
     },
     "output_type": "display_data"
    }
   ],
   "source": [
    "plot_motif_freq()"
   ]
  },
  {
   "cell_type": "code",
   "execution_count": null,
   "metadata": {},
   "outputs": [],
   "source": []
  }
 ],
 "metadata": {
  "kernelspec": {
   "display_name": "Python 3",
   "language": "python",
   "name": "python3"
  },
  "language_info": {
   "codemirror_mode": {
    "name": "ipython",
    "version": 3
   },
   "file_extension": ".py",
   "mimetype": "text/x-python",
   "name": "python",
   "nbconvert_exporter": "python",
   "pygments_lexer": "ipython3",
   "version": "3.7.6"
  }
 },
 "nbformat": 4,
 "nbformat_minor": 2
}
